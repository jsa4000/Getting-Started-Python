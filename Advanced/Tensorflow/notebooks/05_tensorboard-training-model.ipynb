{
 "cells": [
  {
   "cell_type": "markdown",
   "metadata": {},
   "source": [
    "# TensorBoard\n",
    "\n",
    "**Tensorboard** is the interface used to visualize the graph and other tools to understand, debug, and optimize the model. \n",
    "\n",
    "The panel contains different tabs, which are linked to the level of information you add when you run the model. \n",
    "\n",
    "- Scalars: Show different useful information during the model training\n",
    "- Graphs: Show the model\n",
    "- Histogram: Display weights with a histogram\n",
    "- Distribution: Display the distribution of the weight\n",
    "- Projector: Show Principal component analysis and T-SNE algorithm. The technique uses for dimensionality reduction\n"
   ]
  },
  {
   "cell_type": "markdown",
   "metadata": {},
   "source": [
    "## Graphs \n",
    "\n",
    "By looking at the graph, you can understand how the model work.\n",
    "\n",
    "- Enqueue the data to the model: Push an amount of data equal to the batch size to the model, i.e., Number of data feed after each iteration\n",
    "- Feed the data to the Tensors\n",
    "- Train the model\n",
    "- Display the number of batches during the training. Save the model on the disk.\n",
    "    \n",
    "The basic idea behind tensorboard is that neural network can be something known as a black box and we need a tool to inspect what's inside this box. You can imagine tensorboard as a flashlight to start dive into the neural network.\n",
    "\n",
    "It helps to understand the dependencies between operations, how the weights are computed, displays the loss function and much other useful information. When you bring all these pieces of information together, you have a great tool to debug and find how to improve the model. "
   ]
  },
  {
   "cell_type": "code",
   "execution_count": 29,
   "metadata": {},
   "outputs": [
    {
     "name": "stdout",
     "output_type": "stream",
     "text": [
      "{'param1': 0.2, 'param2': 4.0, 'bias': 2.0, 'weight': 8.0}\n",
      "From TensorFlow = 0.5656854510307312\n",
      "From Expected = 0.5656854249492381\n"
     ]
    }
   ],
   "source": [
    "import tensorflow as tf\n",
    "from math import sqrt\n",
    "\n",
    "# For reference use the TensorFlow documentation at\n",
    "# - https://www.tensorflow.org/api_docs/python/tf\n",
    "\n",
    "# Function to comute \n",
    "# ( bias * param1 ) * sqrt( weight / param2)\n",
    "\n",
    "params = {'param1':0.2, 'param2':4.0, 'bias':2.0, 'weight':8.0}\n",
    "print(params)\n",
    "\n",
    "# Input Parameters (scalars)\n",
    "bias = tf.placeholder(tf.float32, name='bias')\n",
    "weight = tf.placeholder(tf.float32, name='weight')\n",
    "\n",
    "# Constant Values (hyper-parameters)\n",
    "param1 = tf.constant(params['param1'], name='param1')\n",
    "param2 = tf.constant(params['param2'], name='param2')\n",
    "\n",
    "# Computation graph\n",
    "#   div and multiply operation allows to set scalars, vector or matrices using tf optimizations\n",
    "left = tf.multiply(bias, param1)\n",
    "right = tf.sqrt(tf.div(weight, param2))\n",
    "function =  tf.multiply(left, right)\n",
    "\n",
    "# Create the tensor flow session\n",
    "with tf.Session() as session:\n",
    "    # Create the FileWriter for the graph\n",
    "    writer = tf.summary.FileWriter(\".outputs/output\", session.graph)\n",
    "\n",
    "    # Build the symbolic model (pipeline), execute the graph, and print the result\n",
    "    tfOutput = session.run(function, {bias:params['bias'], weight:params['weight']})\n",
    "    print('From TensorFlow = {}'.format(tfOutput))\n",
    "\n",
    "    expectedOutput = ( params['bias'] * params['param1'] ) * sqrt( params['weight'] / params['param2'])\n",
    "    print('From Expected = {}'.format(expectedOutput))\n",
    "    # Close writes at the end\n",
    "    writer.close()\n"
   ]
  },
  {
   "cell_type": "markdown",
   "metadata": {},
   "source": [
    "Use the following command from this notebook to open the tensorboard, using previous log folder path\n",
    "\n",
    "    tensorboard --logdir=.outputs/output\n",
    "    \n",
    "Use the browser with URL provided"
   ]
  },
  {
   "cell_type": "markdown",
   "metadata": {},
   "source": [
    "## Advanced\n",
    "\n",
    "Sometimes the graph can be very large and quite complex. In this case is useful to create `scopes` and `named` operations in orde to make the graph understandable."
   ]
  },
  {
   "cell_type": "code",
   "execution_count": 31,
   "metadata": {},
   "outputs": [
    {
     "name": "stdout",
     "output_type": "stream",
     "text": [
      "{'param1': 0.2, 'param2': 4.0, 'bias': 2.0, 'weight': 8.0}\n",
      "From TensorFlow = 0.5656854510307312\n",
      "From Expected = 0.5656854249492381\n"
     ]
    }
   ],
   "source": [
    "import tensorflow as tf\n",
    "from math import sqrt\n",
    "\n",
    "# For reference use the TensorFlow documentation at\n",
    "# - https://www.tensorflow.org/api_docs/python/tf\n",
    "\n",
    "# Function to comute \n",
    "# ( bias * param1 ) * sqrt( weight / param2)\n",
    "\n",
    "params = {'param1':0.2, 'param2':4.0, 'bias':2.0, 'weight':8.0}\n",
    "print(params)\n",
    "\n",
    "# Input Parameters (scalars)\n",
    "bias = tf.placeholder(tf.float32, name='bias')\n",
    "weight = tf.placeholder(tf.float32, name='weight')\n",
    "\n",
    "# Constant Values (hyper-parameters)\n",
    "param1 = tf.constant(params['param1'], name='param1')\n",
    "param2 = tf.constant(params['param2'], name='param2')\n",
    "\n",
    "# Computation graph\n",
    "#   div and multiply operation allows to set scalars, vector or matrices using tf optimizations\n",
    "with tf.name_scope(\"function\"):\n",
    "    with tf.name_scope(\"left_side\"):\n",
    "        left = tf.multiply(bias, param1, name='multiply') \n",
    "    with tf.name_scope(\"right_side\"):\n",
    "        right = tf.sqrt(tf.div(weight, param2, name='divide'),name='sqrt')\n",
    "    function =  tf.multiply(left, right, name='multiply')\n",
    "\n",
    "# Create the tensor flow session\n",
    "with tf.Session() as session:\n",
    "    # Create the FileWriter for the graph\n",
    "    writer = tf.summary.FileWriter(\".outputs/output2\", session.graph)\n",
    "\n",
    "    # Build the symbolic model (pipeline), execute the graph, and print the result\n",
    "    tfOutput = session.run(function, {bias:params['bias'], weight:params['weight']})\n",
    "    print('From TensorFlow = {}'.format(tfOutput))\n",
    "\n",
    "    expectedOutput = ( params['bias'] * params['param1'] ) * sqrt( params['weight'] / params['param2'])\n",
    "    print('From Expected = {}'.format(expectedOutput))\n",
    "    # Close writes at the end\n",
    "    writer.close()\n",
    "\n",
    "#Use tensorboard --logdir=.outputs/output2"
   ]
  },
  {
   "cell_type": "markdown",
   "metadata": {},
   "source": [
    "Use the following command from this notebook to open the tensorboard, using previous log folder path\n",
    "\n",
    "    tensorboard --logdir=.outputs/output2\n",
    "\n",
    "Use the browser with URL provided\n"
   ]
  },
  {
   "cell_type": "markdown",
   "metadata": {},
   "source": [
    "## Summaries\n",
    "\n",
    "Appart from scalars and graphs, it can be visualized summaries for the trained model."
   ]
  },
  {
   "cell_type": "code",
   "execution_count": 32,
   "metadata": {},
   "outputs": [
    {
     "name": "stdout",
     "output_type": "stream",
     "text": [
      "Predicted model: 2.272x + 5.859\n"
     ]
    }
   ],
   "source": [
    "import tensorflow as tf\n",
    "import numpy as np\n",
    "\n",
    "def variable_summaries(var):\n",
    "    with tf.name_scope('summaries'):\n",
    "        mean = tf.reduce_mean(var)\n",
    "        tf.summary.scalar('mean', mean)\n",
    "        with tf.name_scope('stddev'):\n",
    "            stddev = tf.sqrt(tf.reduce_mean(tf.square(var - mean)))\n",
    "            tf.summary.scalar('stddev', stddev)\n",
    "            tf.summary.scalar('max', tf.reduce_max(var))\n",
    "            tf.summary.scalar('min', tf.reduce_min(var))\n",
    "            tf.summary.histogram('histogram', var)\n",
    "\n",
    "# x and y are placeholders for our training data\n",
    "x = tf.placeholder(\"float\")\n",
    "y = tf.placeholder(\"float\")\n",
    "# w is the variable storing our values. It is initialized with starting \"guesses\"\n",
    "# w[0] is the \"a\" in our equation, w[1] is the \"b\"\n",
    "w = tf.Variable([1.0, 2.0], name=\"w\")\n",
    "variable_summaries(w)\n",
    "# Our model of y = a*x + b\n",
    "with tf.name_scope('model'):\n",
    "    y_model = tf.multiply(x, w[0]) + w[1]\n",
    "    tf.summary.histogram('pre_activations', y_model)\n",
    "\n",
    "# Our error is defined as the square of the differences\n",
    "with tf.name_scope('error'):\n",
    "    error = tf.square(y - y_model)\n",
    "tf.summary.scalar('error', error)\n",
    "\n",
    "# The Gradient Descent Optimizer does the heavy lifting\n",
    "train_op = tf.train.GradientDescentOptimizer(0.01).minimize(error)\n",
    "\n",
    "# Normal TensorFlow - initialize values, create a session and run the model\n",
    "model = tf.global_variables_initializer()\n",
    "\n",
    "with tf.Session() as session:\n",
    "    merged_summary = tf.summary.merge_all()\n",
    "\n",
    "     # Create the FileWriter for the graph\n",
    "    writer = tf.summary.FileWriter(\".outputs/output3\", session.graph)\n",
    "\n",
    "    session.run(model)\n",
    "    for i in range(1000):\n",
    "        x_value = np.random.rand()\n",
    "        y_value = x_value * 2 + 6\n",
    "        _, summary  = session.run([train_op, merged_summary], feed_dict={x: x_value, y: y_value})\n",
    "         # Add output for merged variables into the summary (tensorboard)\n",
    "        writer.add_summary(summary, i)\n",
    "\n",
    "    w_value = session.run(w)\n",
    "    print(\"Predicted model: {a:.3f}x + {b:.3f}\".format(a=w_value[0], b=w_value[1]))\n",
    "\n",
    "    # Close writes at the end\n",
    "    writer.close()"
   ]
  },
  {
   "cell_type": "code",
   "execution_count": null,
   "metadata": {},
   "outputs": [],
   "source": []
  }
 ],
 "metadata": {
  "kernelspec": {
   "display_name": "Python 3",
   "language": "python",
   "name": "python3"
  },
  "language_info": {
   "codemirror_mode": {
    "name": "ipython",
    "version": 3
   },
   "file_extension": ".py",
   "mimetype": "text/x-python",
   "name": "python",
   "nbconvert_exporter": "python",
   "pygments_lexer": "ipython3",
   "version": "3.6.7"
  }
 },
 "nbformat": 4,
 "nbformat_minor": 2
}
