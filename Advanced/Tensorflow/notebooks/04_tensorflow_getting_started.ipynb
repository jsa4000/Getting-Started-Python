{
 "cells": [
  {
   "cell_type": "markdown",
   "metadata": {},
   "source": [
    "# Tensorflow - Getting Started\n",
    "\n",
    "This notebook is an initial guide to enter into the tensorflow semantics and terminology. In this case, current wrappers (high-level) such as Keras, tflearn, etc are not going to be used."
   ]
  },
  {
   "cell_type": "markdown",
   "metadata": {},
   "source": [
    "> By default, if **tensorflow-gpu** package has been installed GPU acceleration is going to be used."
   ]
  },
  {
   "cell_type": "markdown",
   "metadata": {},
   "source": [
    "## Hello World\n",
    "\n",
    "This is the helloworld example used in tensorflow for begginers"
   ]
  },
  {
   "cell_type": "code",
   "execution_count": 2,
   "metadata": {},
   "outputs": [
    {
     "name": "stdout",
     "output_type": "stream",
     "text": [
      "5.0\n"
     ]
    }
   ],
   "source": [
    "import tensorflow as tf\n",
    "\n",
    "# Declare the variables (constants) a and b\n",
    "a = tf.constant(3.0)\n",
    "b = tf.constant(2.0)\n",
    "\n",
    "# Create the computation model or pipeline to build\n",
    "c = a + b\n",
    "\n",
    "# Create the tensorflow session\n",
    "session = tf.Session()\n",
    "\n",
    "# Build the symbolic model (pipeline), execute the graph, and print the result\n",
    "print(session.run(c))"
   ]
  },
  {
   "cell_type": "markdown",
   "metadata": {},
   "source": [
    "## Placeholders\n",
    "\n",
    "**Placeholdes** are used in tensorflow to provide inputs to the pipepline, instead using **constants**"
   ]
  },
  {
   "cell_type": "code",
   "execution_count": 3,
   "metadata": {},
   "outputs": [
    {
     "name": "stdout",
     "output_type": "stream",
     "text": [
      "5.0\n"
     ]
    }
   ],
   "source": [
    "import tensorflow as tf\n",
    "\n",
    "# Declare the variables (placeholder) a and b (float32 type)\n",
    "a = tf.placeholder(tf.float32)\n",
    "b = tf.placeholder(tf.float32)\n",
    "\n",
    "# Create the computation model or pipeline to build\n",
    "c = a + b\n",
    "\n",
    "# Create the tensorflow session\n",
    "session = tf.Session()\n",
    "\n",
    "# Build the symbolic model (pipeline), execute the graph, and print the result\n",
    "# In this case it is needed to provide our placeholder values, without which the program will throw an error\n",
    "print(session.run(c, {a: 3, b:2}))"
   ]
  },
  {
   "cell_type": "markdown",
   "metadata": {},
   "source": [
    "> In Tensorflow speak, the *pipelines* are called **flows**, and the values used as *inputs* are called **tensors**"
   ]
  },
  {
   "cell_type": "markdown",
   "metadata": {},
   "source": [
    "## Higher Dimensional Structures and Operations\n",
    "\n",
    "Single numbers (or scalars) are not the only thing it can be run through the flows. It can also be used structures such as **vectors**, and even **multi-dimensional tensors** (metrices), etc..."
   ]
  },
  {
   "cell_type": "code",
   "execution_count": 4,
   "metadata": {},
   "outputs": [
    {
     "name": "stdout",
     "output_type": "stream",
     "text": [
      "[[3. 4.]\n",
      " [6. 8.]]\n"
     ]
    }
   ],
   "source": [
    "import tensorflow as tf\n",
    "\n",
    "# It must be provided the shape of each type of input as the second argument.\n",
    "# Here, we expect: \n",
    "#     `a` to be a 2-dimensional matrix, with 2 rows and 1 column\n",
    "#     `b` to be a matrix with 1 row and 2 columns\n",
    "a = tf.placeholder(tf.float32, shape=(2,1))\n",
    "b = tf.placeholder(tf.float32, shape=(1,2))\n",
    "\n",
    "# Instead of addition, it can be defined the output `c` as the matrix multiplication operation,\n",
    "# with the inputs coming from `a` and `b`\n",
    "c = tf.matmul(a, b)\n",
    "\n",
    "# Create the tensorflow session\n",
    "session = tf.Session()\n",
    "\n",
    "# Build the symbolic model (pipeline), execute the graph, and print the result\n",
    "print(session.run(c, {a: [[1],[2]], b:[[3,4]]}))\n"
   ]
  },
  {
   "cell_type": "markdown",
   "metadata": {},
   "source": [
    "## Final Example\n",
    "\n",
    "In this example, and following previous snippets, we are going to create a more complex pipeline using an additional scalar 'c' and an addictional operation 'e'. The operation 'e' is going to be used to get the final output, since recursively it builds the flow and the symbolic graph stargin from this operations. "
   ]
  },
  {
   "cell_type": "code",
   "execution_count": 5,
   "metadata": {},
   "outputs": [
    {
     "name": "stdout",
     "output_type": "stream",
     "text": [
      "[[ 6.  8.]\n",
      " [12. 16.]]\n"
     ]
    }
   ],
   "source": [
    "import tensorflow as tf\n",
    "\n",
    "# It must be provided the shape of each type of input as the second argument.\n",
    "#     `a` to be a 2-dimensional matrix, with 2 rows and 1 column\n",
    "#     `b` to be a matrix with 1 row and 2 columns\n",
    "#     `c` to be a float32 scalar\n",
    "a = tf.placeholder(tf.float32, shape=(2,1))\n",
    "b = tf.placeholder(tf.float32, shape=(1,2))\n",
    "c = tf.placeholder(tf.float32)\n",
    "\n",
    "# Define the output `d` as the matrix multiplication operation,\n",
    "# with the inputs coming from `a`, `b` and `c`\n",
    "d = tf.matmul(a, b)\n",
    "e = c * d\n",
    "\n",
    "# Create the tensorflow session\n",
    "session = tf.Session()\n",
    "\n",
    "# Build the symbolic model (pipeline), execute the graph, and print the result\n",
    "print(session.run(e, {a: [[1],[2]], b:[[3,4]], c:2}))"
   ]
  },
  {
   "cell_type": "code",
   "execution_count": null,
   "metadata": {},
   "outputs": [],
   "source": []
  }
 ],
 "metadata": {
  "kernelspec": {
   "display_name": "Python 3",
   "language": "python",
   "name": "python3"
  },
  "language_info": {
   "codemirror_mode": {
    "name": "ipython",
    "version": 3
   },
   "file_extension": ".py",
   "mimetype": "text/x-python",
   "name": "python",
   "nbconvert_exporter": "python",
   "pygments_lexer": "ipython3",
   "version": "3.6.7"
  }
 },
 "nbformat": 4,
 "nbformat_minor": 2
}
