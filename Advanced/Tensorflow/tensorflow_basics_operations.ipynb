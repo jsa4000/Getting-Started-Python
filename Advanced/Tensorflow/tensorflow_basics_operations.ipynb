{
 "cells": [
  {
   "cell_type": "markdown",
   "metadata": {},
   "source": [
    "# Tensorflow Basic Operations\n",
    "\n",
    "This notebook explains the basic operations provided by tensorflow. Some of them could be achieved by using just normal python using numpy. Since tensorflow use symbolic graphs to decribe variables (tensors), models and operations, it is better to use custom tensorflow operators since they are optimized during its execution (VPU, GPU, etc..)\n",
    "\n",
    "TensorFlow, as the name indicates, is a framework to define and run computations involving **tensors**. A tensor is a generalization of vectors and matrices to potentially higher dimensions. Internally, TensorFlow represents tensors as n-dimensional arrays of base datatypes."
   ]
  },
  {
   "cell_type": "markdown",
   "metadata": {},
   "source": [
    "## Adds two matrices.\n",
    "\n",
    "This example compute the addition of two matrices using tensorflow operators.\n",
    "\n",
    "$\\begin{bmatrix}\n",
    "  1. & 1. & 1. \\\\\n",
    "  1. & 1. & 1. \\\\\n",
    "\\end{bmatrix} +\n",
    "\\begin{bmatrix}\n",
    "  1. & 2. & 3. \\\\\n",
    "  4. & 5. & 6. \\\\\n",
    "\\end{bmatrix} =\n",
    "\\begin{bmatrix}\n",
    "  2. & 3. & 4. \\\\\n",
    "  5. & 6. & 7. \\\\\n",
    "\\end{bmatrix}$"
   ]
  },
  {
   "cell_type": "markdown",
   "metadata": {},
   "source": [
    "1. First, we create a matrix 2x3 with **ones**"
   ]
  },
  {
   "cell_type": "code",
   "execution_count": 1,
   "metadata": {},
   "outputs": [
    {
     "name": "stdout",
     "output_type": "stream",
     "text": [
      "Tensor(\"input_matrix:0\", shape=(2, 3), dtype=float32)\n",
      "[[1. 1. 1.]\n",
      " [1. 1. 1.]]\n"
     ]
    }
   ],
   "source": [
    "import tensorflow as tf\n",
    "# Enable TensorFlow's eager execution for imperative programming environment that evaluates operations immediately\n",
    "# https://www.tensorflow.org/guide/eager\n",
    "# NOTE: Restart the Juypter Kernel, since it must be set at startup\n",
    "#tf.enable_eager_execution()\n",
    "\n",
    "# Create the one matrix (2x3) using the official documentation form tensorflow \n",
    "# https://www.tensorflow.org/api_docs/python/tf/ones\n",
    "#   tf.ones(shape,dtype=tf.float32,name=None)\n",
    "input_matrix = tf.ones((2,3), name='input_matrix')\n",
    "\n",
    "# Since the model is not compiled, we cannot see its content yet. \n",
    "# These variables are called tensors until it gets evaluated.\n",
    "# Enable eager execution to get the contents without creating a session \n",
    "print(input_matrix)\n",
    "\n",
    "# Also, we cannot evaluate it yet, since we have not created the session yet\n",
    "# This does not work with eager execution, since it is already evaluated immediately\n",
    "#print(ones_matrix.eval()) # ERROR: No default session is registered.\n",
    "\n",
    "# Instead create a new session to get previous content evaluated\n",
    "with tf.Session():\n",
    "   print(input_matrix.eval())"
   ]
  },
  {
   "cell_type": "markdown",
   "metadata": {},
   "source": [
    "2. Creates a new matrix 2x3. \n",
    "\n",
    "  - First, create a linear range from 1 to 6 (inclusive)"
   ]
  },
  {
   "cell_type": "code",
   "execution_count": 2,
   "metadata": {},
   "outputs": [
    {
     "name": "stdout",
     "output_type": "stream",
     "text": [
      "Tensor(\"number_range:0\", shape=(6,), dtype=float32)\n",
      "[1. 2. 3. 4. 5. 6.]\n"
     ]
    }
   ],
   "source": [
    "# Create the range to be used to build the matrix later\n",
    "# https://www.tensorflow.org/api_docs/python/tf/range\n",
    "#    tf.range(limit, delta=1, dtype=None, name='range')\n",
    "#    tf.range(start, limit, delta=1, dtype=None, name='range')\n",
    "number_range = tf.range(1,7,dtype=tf.float32, name='number_range')\n",
    "\n",
    "print(number_range)\n",
    "\n",
    "with tf.Session():\n",
    "   print(number_range.eval())"
   ]
  },
  {
   "cell_type": "markdown",
   "metadata": {},
   "source": [
    "  - Next, we create a matrix by reshaping previous range with the proper shape 2x3"
   ]
  },
  {
   "cell_type": "code",
   "execution_count": 3,
   "metadata": {},
   "outputs": [
    {
     "name": "stdout",
     "output_type": "stream",
     "text": [
      "Tensor(\"matrix_range:0\", shape=(2, 3), dtype=float32)\n",
      "[[1. 2. 3.]\n",
      " [4. 5. 6.]]\n"
     ]
    }
   ],
   "source": [
    "# Reshape previous range to the new shape 2x3\n",
    "# https://www.tensorflow.org/api_docs/python/tf/reshape\n",
    "# tf.reshape(tensor, shape, name=None)\n",
    "range_matrix = tf.reshape(number_range, (2,3), name='matrix_range')\n",
    "\n",
    "print(range_matrix)\n",
    "\n",
    "with tf.Session():\n",
    "   print(range_matrix.eval())"
   ]
  },
  {
   "cell_type": "markdown",
   "metadata": {},
   "source": [
    "3. Describe the sum operation using previous *tensors*"
   ]
  },
  {
   "cell_type": "code",
   "execution_count": 4,
   "metadata": {},
   "outputs": [
    {
     "name": "stdout",
     "output_type": "stream",
     "text": [
      "Tensor(\"sum_operation:0\", shape=(2, 3), dtype=float32)\n",
      "[[2. 3. 4.]\n",
      " [5. 6. 7.]]\n"
     ]
    }
   ],
   "source": [
    "# Create the operation. In some cases, we can just use standard python to describe opeations: +, -, *, etc..\n",
    "# sum_operation = ones_matrix + range_matrix\n",
    "# For best practices it is better to use custom tensor flow oprations . i.e Add a name to the operation for the graph.\n",
    "# https://www.tensorflow.org/api_docs/python/tf/math/add\n",
    "#   tf.add(x, y, name=None)\n",
    "sum_operation = tf.add(input_matrix, range_matrix, name='sum_operation')\n",
    "                       \n",
    "print(sum_operation)\n",
    "\n",
    "with tf.Session():\n",
    "   print(sum_operation.eval())                   "
   ]
  },
  {
   "cell_type": "markdown",
   "metadata": {},
   "source": [
    "## Placeholders\n",
    "\n",
    "In this section we add an input (placeholder) so it can be loaded dinamically (dataset, csv, image, etc..)"
   ]
  },
  {
   "cell_type": "code",
   "execution_count": 5,
   "metadata": {},
   "outputs": [
    {
     "name": "stdout",
     "output_type": "stream",
     "text": [
      "Tensor(\"input_matrix_1:0\", shape=(2, 3), dtype=float32)\n"
     ]
    }
   ],
   "source": [
    "# Create a placeholder (tensor) to store the matriz to be sum instead the previous one matrix\n",
    "# https://www.tensorflow.org/api_docs/python/tf/placeholder\n",
    "# tf.placeholder(dtype, shape=None, name=None)\n",
    "input_matrix = tf.placeholder(tf.float32, (2, 3), name='input_matrix')\n",
    "\n",
    "print(input_matrix)"
   ]
  },
  {
   "cell_type": "markdown",
   "metadata": {},
   "source": [
    "In this case we need to pass throurh the run operation the inputs to the previous operation\n"
   ]
  },
  {
   "cell_type": "code",
   "execution_count": 6,
   "metadata": {},
   "outputs": [
    {
     "name": "stdout",
     "output_type": "stream",
     "text": [
      "[[2. 3. 4.]\n",
      " [5. 6. 7.]]\n"
     ]
    }
   ],
   "source": [
    "import numpy as np\n",
    "\n",
    "# Create the sesssion\n",
    "# https://www.tensorflow.org/api_docs/python/tf/Session\n",
    "\n",
    "with tf.Session() as sess:\n",
    "    # Create the matrix using numpy or load it from any other source  \n",
    "    ones_matrix = np.ones(shape=(2,3))\n",
    "    # Run a custom operation from a session (instad using eval())\n",
    "    # run(fetches, feed_dict=None, options=None, run_metadata=None)\n",
    "    print(sess.run(sum_operation, feed_dict={input_matrix: ones_matrix}))\n"
   ]
  },
  {
   "cell_type": "markdown",
   "metadata": {},
   "source": [
    "# Graphic Plots\n",
    "\n",
    "Create graphic plots usint matplotlib"
   ]
  },
  {
   "cell_type": "code",
   "execution_count": 7,
   "metadata": {},
   "outputs": [
    {
     "name": "stdout",
     "output_type": "stream",
     "text": [
      "[ 0  1  2  3  4  5  6  7  8  9 10 11 12 13 14 15 16 17 18 19]\n",
      "[array([-0.52857376]), array([0.91655386]), array([2.87518777]), array([3.6859527]), array([3.12925427]), array([4.71061506]), array([5.87469902]), array([7.77416194]), array([6.81118444]), array([10.77419759]), array([11.47331465]), array([11.06695572]), array([10.3118532]), array([11.65310742]), array([13.70601349]), array([15.49099138]), array([15.32320158]), array([16.16714823]), array([17.15399919]), array([22.10025019])]\n"
     ]
    },
    {
     "data": {
      "image/png": "[encoded data removed]",
      "text/plain": [
       "<Figure size 432x288 with 1 Axes>"
      ]
     },
     "metadata": {
      "needs_background": "light"
     },
     "output_type": "display_data"
    }
   ],
   "source": [
    "%matplotlib inline\n",
    "\n",
    "import matplotlib.pyplot as plt\n",
    "\n",
    "# Create a range unsing numpy (x axis)\n",
    "x = np.arange(20)\n",
    "print(x)\n",
    "# Use list comprehension to generate random values using previous values (y axis)\n",
    "y = [number + np.random.randn(1) for number in x]\n",
    "print(y)\n",
    "# Get the vector of coefficients p that minimises the squared error.\n",
    "# y = ax + b\n",
    "a, b = np.polyfit(x, y, 1)\n",
    "# Generate the plot\n",
    "# - Draw line using previous coeficients (a, b)\n",
    "# - Draw the points using data values (x, y)\n",
    "_ = plt.plot(x, y, 'o', np.arange(20), a*np.arange(20)+b, '-')"
   ]
  }
 ],
 "metadata": {
  "kernelspec": {
   "display_name": "Python 3",
   "language": "python",
   "name": "python3"
  },
  "language_info": {
   "codemirror_mode": {
    "name": "ipython",
    "version": 3
   },
   "file_extension": ".py",
   "mimetype": "text/x-python",
   "name": "python",
   "nbconvert_exporter": "python",
   "pygments_lexer": "ipython3",
   "version": "3.6.7"
  }
 },
 "nbformat": 4,
 "nbformat_minor": 2
}
